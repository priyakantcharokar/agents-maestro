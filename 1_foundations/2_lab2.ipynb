{
 "cells": [
  {
   "cell_type": "markdown",
   "metadata": {},
   "source": [
    "## Welcome to the Second Lab - Week 1, Day 3\n",
    "\n",
    "Today we will work with lots of models! This is a way to get comfortable with APIs."
   ]
  },
  {
   "cell_type": "markdown",
   "metadata": {},
   "source": [
    "<table style=\"margin: 0; text-align: left; width:100%\">\n",
    "    <tr>\n",
    "        <td style=\"width: 150px; height: 150px; vertical-align: middle;\">\n",
    "            <img src=\"../assets/stop.png\" width=\"150\" height=\"150\" style=\"display: block;\" />\n",
    "        </td>\n",
    "        <td>\n",
    "            <h2 style=\"color:#ff7800;\">Important point - please read</h2>\n",
    "            <span style=\"color:#ff7800;\">The way I collaborate with you may be different to other courses you've taken. I prefer not to type code while you watch. Rather, I execute Jupyter Labs, like this, and give you an intuition for what's going on. My suggestion is that you carefully execute this yourself, <b>after</b> watching the lecture. Add print statements to understand what's going on, and then come up with your own variations.<br/><br/>If you have time, I'd love it if you submit a PR for changes in the community_contributions folder - instructions in the resources. Also, if you have a Github account, use this to showcase your variations. Not only is this essential practice, but it demonstrates your skills to others, including perhaps future clients or employers...\n",
    "            </span>\n",
    "        </td>\n",
    "    </tr>\n",
    "</table>"
   ]
  },
  {
   "cell_type": "code",
   "execution_count": 1,
   "metadata": {},
   "outputs": [],
   "source": [
    "# Start with imports - ask ChatGPT to explain any package that you don't know\n",
    "\n",
    "import os\n",
    "import json\n",
    "from dotenv import load_dotenv\n",
    "from openai import OpenAI\n",
    "from anthropic import Anthropic\n",
    "from IPython.display import Markdown, display"
   ]
  },
  {
   "cell_type": "code",
   "execution_count": 2,
   "metadata": {},
   "outputs": [
    {
     "data": {
      "text/plain": [
       "True"
      ]
     },
     "execution_count": 2,
     "metadata": {},
     "output_type": "execute_result"
    }
   ],
   "source": [
    "# Always remember to do this!\n",
    "load_dotenv(override=True)"
   ]
  },
  {
   "cell_type": "code",
   "execution_count": 3,
   "metadata": {},
   "outputs": [
    {
     "name": "stdout",
     "output_type": "stream",
     "text": [
      "OpenAI API Key exists and begins sk-proj-\n",
      "Anthropic API Key exists and begins sk-ant-\n",
      "Google API Key not set (and this is optional)\n",
      "DeepSeek API Key exists and begins sk-\n",
      "Groq API Key exists and begins gsk_\n"
     ]
    }
   ],
   "source": [
    "# Print the key prefixes to help with any debugging\n",
    "\n",
    "openai_api_key = os.getenv('OPENAI_API_KEY')\n",
    "anthropic_api_key = os.getenv('ANTHROPIC_API_KEY')\n",
    "google_api_key = os.getenv('GOOGLE_API_KEY')\n",
    "deepseek_api_key = os.getenv('DEEPSEEK_API_KEY')\n",
    "groq_api_key = os.getenv('GROQ_API_KEY')\n",
    "\n",
    "if openai_api_key:\n",
    "    print(f\"OpenAI API Key exists and begins {openai_api_key[:8]}\")\n",
    "else:\n",
    "    print(\"OpenAI API Key not set\")\n",
    "    \n",
    "if anthropic_api_key:\n",
    "    print(f\"Anthropic API Key exists and begins {anthropic_api_key[:7]}\")\n",
    "else:\n",
    "    print(\"Anthropic API Key not set (and this is optional)\")\n",
    "\n",
    "if google_api_key:\n",
    "    print(f\"Google API Key exists and begins {google_api_key[:2]}\")\n",
    "else:\n",
    "    print(\"Google API Key not set (and this is optional)\")\n",
    "\n",
    "if deepseek_api_key:\n",
    "    print(f\"DeepSeek API Key exists and begins {deepseek_api_key[:3]}\")\n",
    "else:\n",
    "    print(\"DeepSeek API Key not set (and this is optional)\")\n",
    "\n",
    "if groq_api_key:\n",
    "    print(f\"Groq API Key exists and begins {groq_api_key[:4]}\")\n",
    "else:\n",
    "    print(\"Groq API Key not set (and this is optional)\")"
   ]
  },
  {
   "cell_type": "code",
   "execution_count": 4,
   "metadata": {},
   "outputs": [],
   "source": [
    "request = \"Please come up with a challenging, nuanced question that I can ask a number of LLMs to evaluate their intelligence. \"\n",
    "request += \"Answer only with the question, no explanation.\"\n",
    "messages = [{\"role\": \"user\", \"content\": request}]"
   ]
  },
  {
   "cell_type": "code",
   "execution_count": 5,
   "metadata": {},
   "outputs": [
    {
     "data": {
      "text/plain": [
       "[{'role': 'user',\n",
       "  'content': 'Please come up with a challenging, nuanced question that I can ask a number of LLMs to evaluate their intelligence. Answer only with the question, no explanation.'}]"
      ]
     },
     "execution_count": 5,
     "metadata": {},
     "output_type": "execute_result"
    }
   ],
   "source": [
    "messages"
   ]
  },
  {
   "cell_type": "code",
   "execution_count": 6,
   "metadata": {},
   "outputs": [
    {
     "name": "stdout",
     "output_type": "stream",
     "text": [
      "If you were tasked with creating a new ethical framework for AI that balances innovation with societal well-being, what key principles would you include, and how would you address potential conflicts between those principles?\n"
     ]
    }
   ],
   "source": [
    "openai = OpenAI()\n",
    "response = openai.chat.completions.create(\n",
    "    model=\"gpt-4o-mini\",\n",
    "    messages=messages,\n",
    ")\n",
    "question = response.choices[0].message.content\n",
    "print(question)\n"
   ]
  },
  {
   "cell_type": "code",
   "execution_count": 7,
   "metadata": {},
   "outputs": [],
   "source": [
    "competitors = []\n",
    "answers = []\n",
    "messages = [{\"role\": \"user\", \"content\": question}]"
   ]
  },
  {
   "cell_type": "code",
   "execution_count": 8,
   "metadata": {},
   "outputs": [
    {
     "data": {
      "text/markdown": [
       "Creating a new ethical framework for AI that balances innovation with societal well-being is both a crucial and complex task. Here are key principles to consider, along with suggestions for addressing potential conflicts:\n",
       "\n",
       "### Key Principles\n",
       "\n",
       "1. **Beneficence**: AI should be developed and deployed with the intent to promote well-being and benefit humanity. This principle emphasizes that AI should primarily serve to improve individuals' lives and societal conditions.\n",
       "\n",
       "2. **Non-Maleficence**: AI systems should be designed to minimize harm. This includes preventing misuse, ensuring safety, and avoiding harmful consequences from autonomous decisions.\n",
       "\n",
       "3. **Justice**: AI must promote fairness and equitable access. Systems should be designed to avoid biases and discrimination, ensuring benefits of AI are widely distributed and do not exacerbate inequalities.\n",
       "\n",
       "4. **Transparency**: It’s crucial that AI systems are understandable and explicable to users and stakeholders. This includes clear communication about how choices are made and what data is used.\n",
       "\n",
       "5. **Accountability**: There should be mechanisms to hold developers and users accountable for the outcomes of AI systems. This includes having clear chains of responsibility and protocols for addressing ethical violations.\n",
       "\n",
       "6. **Privacy**: Respect for individual privacy and data protection must be paramount in AI development and use. Users should have control over their personal information, and data collection should be minimized and justified.\n",
       "\n",
       "7. **Sustainability**: AI development should consider long-term impacts on the environment and society, promoting practices that are environmentally sustainable and socially responsible.\n",
       "\n",
       "8. **Collaboration**: Stakeholder engagement is essential. Developers, users, ethicists, policymakers, and affected communities should collaborate throughout the AI lifecycle to ensure diverse perspectives are included.\n",
       "\n",
       "### Addressing Conflicts\n",
       "\n",
       "Conflicts between these principles are likely to arise, so a structured approach for addressing these is necessary:\n",
       "\n",
       "1. **Prioritization Framework**: Develop guidelines on how to prioritize principles in various contexts. For example, in a healthcare application, beneficence may take precedence over transparency if immediate benefits to patient health are at stake.\n",
       "\n",
       "2. **Stakeholder Consultation**: Regular dialogues and consultations with a diverse set of stakeholders can illuminate conflicts and potential resolutions. This ensures that solutions are contextually relevant and values-consistent.\n",
       "\n",
       "3. **Iterative Assessment**: Implement an ongoing assessment and review mechanism for AI systems. This allows for adaptation and revision in response to real-world impacts, thus harmonizing conflicting principles over time.\n",
       "\n",
       "4. **Ethical Review Boards**: Establish interdisciplinary ethical review boards that include technologists, ethicists, legal experts, and community representatives. These boards can assess potential conflicts and monitor projects for adherence to ethical guidelines before deployment.\n",
       "\n",
       "5. **Public Engagement and Education**: Foster public understanding of AI and its ethical implications to cultivate an informed society that can engage in discussions and hold developers accountable.\n",
       "\n",
       "6. **Clear Regulations and Standards**: Implementation of clear laws and standards that provide a framework for compliance with ethical principles and address conflicts when principles clash, ensuring that there are external checks and balances.\n",
       "\n",
       "By embedding these principles into the AI development process and creating structures for conflict resolution, we can foster innovation that aligns with societal well-being, ultimately leading to AI systems that are ethical, safe, and beneficial for all."
      ],
      "text/plain": [
       "<IPython.core.display.Markdown object>"
      ]
     },
     "metadata": {},
     "output_type": "display_data"
    }
   ],
   "source": [
    "# The API we know well\n",
    "\n",
    "model_name = \"gpt-4o-mini\"\n",
    "\n",
    "response = openai.chat.completions.create(model=model_name, messages=messages)\n",
    "answer = response.choices[0].message.content\n",
    "\n",
    "display(Markdown(answer))\n",
    "competitors.append(model_name)\n",
    "answers.append(answer)"
   ]
  },
  {
   "cell_type": "code",
   "execution_count": null,
   "metadata": {},
   "outputs": [],
   "source": [
    "from anthropic import Anthropic\n",
    "from IPython.display import Markdown, display\n",
    "\n",
    "# Create client (make sure ANTHROPIC_API_KEY is set in your environment)\n",
    "claude = Anthropic()\n",
    "\n",
    "# Define your prompt and messages\n",
    "system_prompt = \"You are a helpful assistant.\"\n",
    "user_message = \"Explain quantum computing in simple terms.\"\n",
    "\n",
    "# Make the API call\n",
    "response = claude.messages.create(\n",
    "    model=\"claude-3-7-sonnet-latest\",\n",
    "    system=system_prompt,\n",
    "    messages=[\n",
    "        {\"role\": \"user\", \"content\": user_message}\n",
    "    ],\n",
    "    max_tokens=1000\n",
    ")\n",
    "\n",
    "# Extract and display the answer\n",
    "answer = response.content[0].text\n",
    "display(Markdown(answer))\n"
   ]
  },
  {
   "cell_type": "code",
   "execution_count": null,
   "metadata": {},
   "outputs": [],
   "source": [
    "gemini = OpenAI(api_key=google_api_key, base_url=\"https://generativelanguage.googleapis.com/v1beta/openai/\")\n",
    "model_name = \"gemini-2.0-flash\"\n",
    "\n",
    "response = gemini.chat.completions.create(model=model_name, messages=messages)\n",
    "answer = response.choices[0].message.content\n",
    "\n",
    "display(Markdown(answer))\n",
    "competitors.append(model_name)\n",
    "answers.append(answer)"
   ]
  },
  {
   "cell_type": "code",
   "execution_count": null,
   "metadata": {},
   "outputs": [],
   "source": [
    "deepseek = OpenAI(api_key=deepseek_api_key, base_url=\"https://api.deepseek.com/v1\")\n",
    "model_name = \"deepseek-chat\"\n",
    "\n",
    "response = deepseek.chat.completions.create(model=model_name, messages=messages)\n",
    "answer = response.choices[0].message.content\n",
    "\n",
    "display(Markdown(answer))\n",
    "competitors.append(model_name)\n",
    "answers.append(answer)"
   ]
  },
  {
   "cell_type": "code",
   "execution_count": 14,
   "metadata": {},
   "outputs": [
    {
     "data": {
      "text/markdown": [
       "Creating a new ethical framework for AI that balances innovation with societal well-being requires a thoughtful and multidisciplinary approach. Here are the key principles I would include, along with strategies for addressing potential conflicts:\n",
       "\n",
       "**Key Principles:**\n",
       "\n",
       "1. **Respect for Human Rights and Dignity**: AI systems should be designed and deployed in ways that respect and promote human rights, dignity, and autonomy.\n",
       "2. **Transparency and Explainability**: AI systems should be transparent, explainable, and accountable, enabling users to understand how decisions are made and what data is used.\n",
       "3. **Fairness and Non-Discrimination**: AI systems should be designed to prevent bias, ensure fairness, and promote equal opportunities for all individuals and groups.\n",
       "4. **Safety and Security**: AI systems should be designed and deployed with robust safety and security measures to prevent harm to individuals and society.\n",
       "5. **Accountability and Responsibility**: Developers, deployers, and users of AI systems should be held accountable for their actions and decisions, and be responsible for mitigating potential risks and harms.\n",
       "6. **Inclusivity and Accessibility**: AI systems should be designed to be accessible and usable by diverse populations, including those with disabilities.\n",
       "7. **Environmental Sustainability**: AI systems should be designed and deployed in ways that minimize their environmental impact and promote sustainable development.\n",
       "8. **Continuous Learning and Improvement**: AI systems should be designed to learn from experience, adapt to changing contexts, and improve over time, while maintaining their alignment with these principles.\n",
       "\n",
       "**Addressing Potential Conflicts:**\n",
       "\n",
       "1. **Trade-offs between principles**: When conflicts arise, prioritize the principles based on context and severity of potential harm. For example, in a life-critical AI system, safety and security might take precedence over transparency and explainability.\n",
       "2. **Stakeholder engagement**: Engage with diverse stakeholders, including developers, users, policymakers, and civil society, to ensure that all perspectives are considered and conflicts are addressed through collaborative decision-making.\n",
       "3. **Value-based decision-making**: Develop decision-making frameworks that incorporate human values, such as respect for human rights, fairness, and dignity, to guide trade-offs between principles.\n",
       "4. **Regulatory frameworks**: Establish regulatory frameworks that provide guidance on AI development and deployment, while allowing for flexibility and innovation.\n",
       "5. **Education and awareness**: Promote education and awareness about AI ethics among developers, users, and the general public to ensure that everyone understands the importance of these principles and their role in upholding them.\n",
       "6. **Independent review and audit**: Establish independent review and audit mechanisms to ensure that AI systems are aligned with these principles and to identify areas for improvement.\n",
       "7. **Continuous monitoring and evaluation**: Regularly monitor and evaluate AI systems to ensure that they remain aligned with these principles and to address any emerging conflicts or issues.\n",
       "\n",
       "**Implementation Strategies:**\n",
       "\n",
       "1. **Establish AI ethics boards**: Set up AI ethics boards or committees to provide guidance and oversight on AI development and deployment.\n",
       "2. **Develop AI ethics guidelines**: Create guidelines and standards for AI development and deployment, incorporating these principles.\n",
       "3. **Provide education and training**: Offer education and training programs for developers, users, and policymakers on AI ethics and these principles.\n",
       "4. **Encourage transparency and accountability**: Promote transparency and accountability in AI development and deployment, through mechanisms such as auditing and reporting.\n",
       "5. **Foster international cooperation**: Collaborate with international organizations, governments, and civil society to develop and implement these principles globally.\n",
       "\n",
       "By incorporating these key principles and strategies for addressing potential conflicts, the new ethical framework for AI can promote innovation while ensuring that AI systems are aligned with societal well-being and human values."
      ],
      "text/plain": [
       "<IPython.core.display.Markdown object>"
      ]
     },
     "metadata": {},
     "output_type": "display_data"
    }
   ],
   "source": [
    "groq = OpenAI(api_key=groq_api_key, base_url=\"https://api.groq.com/openai/v1\")\n",
    "model_name = \"llama-3.3-70b-versatile\"\n",
    "\n",
    "response = groq.chat.completions.create(model=model_name, messages=messages)\n",
    "answer = response.choices[0].message.content\n",
    "\n",
    "display(Markdown(answer))\n",
    "competitors.append(model_name)\n",
    "answers.append(answer)\n"
   ]
  },
  {
   "cell_type": "markdown",
   "metadata": {},
   "source": [
    "## For the next cell, we will use Ollama\n",
    "\n",
    "Ollama runs a local web service that gives an OpenAI compatible endpoint,  \n",
    "and runs models locally using high performance C++ code.\n",
    "\n",
    "If you don't have Ollama, install it here by visiting https://ollama.com then pressing Download and following the instructions.\n",
    "\n",
    "After it's installed, you should be able to visit here: http://localhost:11434 and see the message \"Ollama is running\"\n",
    "\n",
    "You might need to restart Cursor (and maybe reboot). Then open a Terminal (control+\\`) and run `ollama serve`\n",
    "\n",
    "Useful Ollama commands (run these in the terminal, or with an exclamation mark in this notebook):\n",
    "\n",
    "`ollama pull <model_name>` downloads a model locally  \n",
    "`ollama ls` lists all the models you've downloaded  \n",
    "`ollama rm <model_name>` deletes the specified model from your downloads"
   ]
  },
  {
   "cell_type": "markdown",
   "metadata": {},
   "source": [
    "<table style=\"margin: 0; text-align: left; width:100%\">\n",
    "    <tr>\n",
    "        <td style=\"width: 150px; height: 150px; vertical-align: middle;\">\n",
    "            <img src=\"../assets/stop.png\" width=\"150\" height=\"150\" style=\"display: block;\" />\n",
    "        </td>\n",
    "        <td>\n",
    "            <h2 style=\"color:#ff7800;\">Super important - ignore me at your peril!</h2>\n",
    "            <span style=\"color:#ff7800;\">The model called <b>llama3.3</b> is FAR too large for home computers - it's not intended for personal computing and will consume all your resources! Stick with the nicely sized <b>llama3.2</b> or <b>llama3.2:1b</b> and if you want larger, try llama3.1 or smaller variants of Qwen, Gemma, Phi or DeepSeek. See the <A href=\"https://ollama.com/models\">the Ollama models page</a> for a full list of models and sizes.\n",
    "            </span>\n",
    "        </td>\n",
    "    </tr>\n",
    "</table>"
   ]
  },
  {
   "cell_type": "code",
   "execution_count": null,
   "metadata": {},
   "outputs": [],
   "source": [
    "!ollama pull llama3.2"
   ]
  },
  {
   "cell_type": "code",
   "execution_count": null,
   "metadata": {},
   "outputs": [],
   "source": [
    "ollama = OpenAI(base_url='http://localhost:11434/v1', api_key='ollama')\n",
    "model_name = \"llama3.2\"\n",
    "\n",
    "response = ollama.chat.completions.create(model=model_name, messages=messages)\n",
    "answer = response.choices[0].message.content\n",
    "\n",
    "display(Markdown(answer))\n",
    "competitors.append(model_name)\n",
    "answers.append(answer)"
   ]
  },
  {
   "cell_type": "code",
   "execution_count": null,
   "metadata": {},
   "outputs": [],
   "source": [
    "# So where are we?\n",
    "\n",
    "print(competitors)\n",
    "print(answers)\n"
   ]
  },
  {
   "cell_type": "code",
   "execution_count": null,
   "metadata": {},
   "outputs": [],
   "source": [
    "# It's nice to know how to use \"zip\"\n",
    "for competitor, answer in zip(competitors, answers):\n",
    "    print(f\"Competitor: {competitor}\\n\\n{answer}\")\n"
   ]
  },
  {
   "cell_type": "code",
   "execution_count": 20,
   "metadata": {},
   "outputs": [],
   "source": [
    "# Let's bring this together - note the use of \"enumerate\"\n",
    "\n",
    "together = \"\"\n",
    "for index, answer in enumerate(answers):\n",
    "    together += f\"# Response from competitor {index+1}\\n\\n\"\n",
    "    together += answer + \"\\n\\n\""
   ]
  },
  {
   "cell_type": "code",
   "execution_count": null,
   "metadata": {},
   "outputs": [],
   "source": [
    "print(together)"
   ]
  },
  {
   "cell_type": "code",
   "execution_count": 22,
   "metadata": {},
   "outputs": [],
   "source": [
    "judge = f\"\"\"You are judging a competition between {len(competitors)} competitors.\n",
    "Each model has been given this question:\n",
    "\n",
    "{question}\n",
    "\n",
    "Your job is to evaluate each response for clarity and strength of argument, and rank them in order of best to worst.\n",
    "Respond with JSON, and only JSON, with the following format:\n",
    "{{\"results\": [\"best competitor number\", \"second best competitor number\", \"third best competitor number\", ...]}}\n",
    "\n",
    "Here are the responses from each competitor:\n",
    "\n",
    "{together}\n",
    "\n",
    "Now respond with the JSON with the ranked order of the competitors, nothing else. Do not include markdown formatting or code blocks.\"\"\"\n"
   ]
  },
  {
   "cell_type": "code",
   "execution_count": null,
   "metadata": {},
   "outputs": [],
   "source": [
    "print(judge)"
   ]
  },
  {
   "cell_type": "code",
   "execution_count": 29,
   "metadata": {},
   "outputs": [],
   "source": [
    "judge_messages = [{\"role\": \"user\", \"content\": judge}]"
   ]
  },
  {
   "cell_type": "code",
   "execution_count": null,
   "metadata": {},
   "outputs": [],
   "source": [
    "# Judgement time!\n",
    "\n",
    "openai = OpenAI()\n",
    "response = openai.chat.completions.create(\n",
    "    model=\"o3-mini\",\n",
    "    messages=judge_messages,\n",
    ")\n",
    "results = response.choices[0].message.content\n",
    "print(results)\n"
   ]
  },
  {
   "cell_type": "code",
   "execution_count": null,
   "metadata": {},
   "outputs": [],
   "source": [
    "# OK let's turn this into results!\n",
    "\n",
    "results_dict = json.loads(results)\n",
    "ranks = results_dict[\"results\"]\n",
    "for index, result in enumerate(ranks):\n",
    "    competitor = competitors[int(result)-1]\n",
    "    print(f\"Rank {index+1}: {competitor}\")"
   ]
  },
  {
   "cell_type": "markdown",
   "metadata": {},
   "source": [
    "<table style=\"margin: 0; text-align: left; width:100%\">\n",
    "    <tr>\n",
    "        <td style=\"width: 150px; height: 150px; vertical-align: middle;\">\n",
    "            <img src=\"../assets/exercise.png\" width=\"150\" height=\"150\" style=\"display: block;\" />\n",
    "        </td>\n",
    "        <td>\n",
    "            <h2 style=\"color:#ff7800;\">Exercise</h2>\n",
    "            <span style=\"color:#ff7800;\">Which pattern(s) did this use? Try updating this to add another Agentic design pattern.\n",
    "            </span>\n",
    "        </td>\n",
    "    </tr>\n",
    "</table>"
   ]
  },
  {
   "cell_type": "markdown",
   "metadata": {},
   "source": [
    "<table style=\"margin: 0; text-align: left; width:100%\">\n",
    "    <tr>\n",
    "        <td style=\"width: 150px; height: 150px; vertical-align: middle;\">\n",
    "            <img src=\"../assets/business.png\" width=\"150\" height=\"150\" style=\"display: block;\" />\n",
    "        </td>\n",
    "        <td>\n",
    "            <h2 style=\"color:#00bfff;\">Commercial implications</h2>\n",
    "            <span style=\"color:#00bfff;\">These kinds of patterns - to send a task to multiple models, and evaluate results,\n",
    "            are common where you need to improve the quality of your LLM response. This approach can be universally applied\n",
    "            to business projects where accuracy is critical.\n",
    "            </span>\n",
    "        </td>\n",
    "    </tr>\n",
    "</table>"
   ]
  }
 ],
 "metadata": {
  "kernelspec": {
   "display_name": ".venv",
   "language": "python",
   "name": "python3"
  },
  "language_info": {
   "codemirror_mode": {
    "name": "ipython",
    "version": 3
   },
   "file_extension": ".py",
   "mimetype": "text/x-python",
   "name": "python",
   "nbconvert_exporter": "python",
   "pygments_lexer": "ipython3",
   "version": "3.12.7"
  }
 },
 "nbformat": 4,
 "nbformat_minor": 2
}
