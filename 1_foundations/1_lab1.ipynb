{
 "cells": [
  {
   "cell_type": "markdown",
   "metadata": {},
   "source": [
    "# Welcome to the start of your adventure in Agentic AI"
   ]
  },
  {
   "cell_type": "markdown",
   "metadata": {},
   "source": [
    "<table style=\"margin: 0; text-align: left; width:100%\">\n",
    "    <tr>\n",
    "        <td style=\"width: 150px; height: 150px; vertical-align: middle;\">\n",
    "            <img src=\"../assets/stop.png\" width=\"150\" height=\"150\" style=\"display: block;\" />\n",
    "        </td>\n",
    "        <td>\n",
    "            <h2 style=\"color:#ff7800;\">Are you ready for action??</h2>\n",
    "            <span style=\"color:#ff7800;\">Have you completed all the setup steps in the <a href=\"../setup/\">setup</a> folder?<br/>\n",
    "            Have you checked out the guides in the <a href=\"../guides/01_intro.ipynb\">guides</a> folder?<br/>\n",
    "            Well in that case, you're ready!!\n",
    "            </span>\n",
    "        </td>\n",
    "    </tr>\n",
    "</table>"
   ]
  },
  {
   "cell_type": "markdown",
   "metadata": {},
   "source": [
    "<table style=\"margin: 0; text-align: left; width:100%\">\n",
    "    <tr>\n",
    "        <td style=\"width: 150px; height: 150px; vertical-align: middle;\">\n",
    "            <img src=\"../assets/tools.png\" width=\"150\" height=\"150\" style=\"display: block;\" />\n",
    "        </td>\n",
    "        <td>\n",
    "            <h2 style=\"color:#00bfff;\">This code is a live resource - keep an eye out for my updates</h2>\n",
    "            <span style=\"color:#00bfff;\">I push updates regularly. As people ask questions or have problems, I add more examples and improve explanations. As a result, the code below might not be identical to the videos, as I've added more steps and better comments. Consider this like an interactive book that accompanies the lectures.<br/><br/>\n",
    "            I try to send emails regularly with important updates related to the course. You can find this in the 'Announcements' section of Udemy in the left sidebar. You can also choose to receive my emails via your Notification Settings in Udemy. I'm respectful of your inbox and always try to add value with my emails!\n",
    "            </span>\n",
    "        </td>\n",
    "    </tr>\n",
    "</table>"
   ]
  },
  {
   "cell_type": "markdown",
   "metadata": {},
   "source": [
    "### And please do remember to contact me if I can help\n",
    "\n",
    "And I love to connect: https://www.linkedin.com/in/eddonner/\n",
    "\n",
    "\n",
    "### New to Notebooks like this one? Head over to the guides folder!\n",
    "\n",
    "Just to check you've already added the Python and Jupyter extensions to Cursor, if not already installed:\n",
    "- Open extensions (View >> extensions)\n",
    "- Search for python, and when the results show, click on the ms-python one, and Install it if not already installed\n",
    "- Search for jupyter, and when the results show, click on the Microsoft one, and Install it if not already installed  \n",
    "Then View >> Explorer to bring back the File Explorer.\n",
    "\n",
    "And then:\n",
    "1. Click where it says \"Select Kernel\" near the top right, and select the option called `.venv (Python 3.12.9)` or similar, which should be the first choice or the most prominent choice. You may need to choose \"Python Environments\" first.\n",
    "2. Click in each \"cell\" below, starting with the cell immediately below this text, and press Shift+Enter to run\n",
    "3. Enjoy!\n",
    "\n",
    "After you click \"Select Kernel\", if there is no option like `.venv (Python 3.12.9)` then please do the following:  \n",
    "1. On Mac: From the Cursor menu, choose Settings >> VS Code Settings (NOTE: be sure to select `VSCode Settings` not `Cursor Settings`);  \n",
    "On Windows PC: From the File menu, choose Preferences >> VS Code Settings(NOTE: be sure to select `VSCode Settings` not `Cursor Settings`)  \n",
    "2. In the Settings search bar, type \"venv\"  \n",
    "3. In the field \"Path to folder with a list of Virtual Environments\" put the path to the project root, like C:\\Users\\username\\projects\\agents (on a Windows PC) or /Users/username/projects/agents (on Mac or Linux).  \n",
    "And then try again.\n",
    "\n",
    "Having problems with missing Python versions in that list? Have you ever used Anaconda before? It might be interferring. Quit Cursor, bring up a new command line, and make sure that your Anaconda environment is deactivated:    \n",
    "`conda deactivate`  \n",
    "And if you still have any problems with conda and python versions, it's possible that you will need to run this too:  \n",
    "`conda config --set auto_activate_base false`  \n",
    "and then from within the Agents directory, you should be able to run `uv python list` and see the Python 3.12 version."
   ]
  },
  {
   "cell_type": "code",
   "execution_count": 1,
   "metadata": {},
   "outputs": [],
   "source": [
    "# First let's do an import\n",
    "from dotenv import load_dotenv \n",
    "\n"
   ]
  },
  {
   "cell_type": "code",
   "execution_count": 2,
   "metadata": {},
   "outputs": [
    {
     "data": {
      "text/plain": [
       "True"
      ]
     },
     "execution_count": 2,
     "metadata": {},
     "output_type": "execute_result"
    }
   ],
   "source": [
    "# Next it's time to load the API keys into environment variables\n",
    "\n",
    "load_dotenv(override=True)"
   ]
  },
  {
   "cell_type": "code",
   "execution_count": 3,
   "metadata": {},
   "outputs": [
    {
     "name": "stdout",
     "output_type": "stream",
     "text": [
      "OpenAI API Key exists and begins sk-proj-\n"
     ]
    }
   ],
   "source": [
    "# Check the keys\n",
    "\n",
    "import os\n",
    "openai_api_key = os.getenv('OPENAI_API_KEY')\n",
    "\n",
    "if openai_api_key:\n",
    "    print(f\"OpenAI API Key exists and begins {openai_api_key[:8]}\")\n",
    "else:\n",
    "    print(\"OpenAI API Key not set - please head to the troubleshooting guide in the setup folder\")\n",
    "    \n"
   ]
  },
  {
   "cell_type": "code",
   "execution_count": 4,
   "metadata": {},
   "outputs": [],
   "source": [
    "# And now - the all important import statement\n",
    "# If you get an import error - head over to troubleshooting guide\n",
    "\n",
    "from openai import OpenAI"
   ]
  },
  {
   "cell_type": "code",
   "execution_count": 5,
   "metadata": {},
   "outputs": [],
   "source": [
    "# And now we'll create an instance of the OpenAI class\n",
    "# If you're not sure what it means to create an instance of a class - head over to the guides folder!\n",
    "# If you get a NameError - head over to the guides folder to learn about NameErrors\n",
    "\n",
    "openai = OpenAI()"
   ]
  },
  {
   "cell_type": "code",
   "execution_count": 6,
   "metadata": {},
   "outputs": [],
   "source": [
    "# Create a list of messages in the familiar OpenAI format\n",
    "\n",
    "messages = [{\"role\": \"user\", \"content\": \"What is 2+2?\"}]"
   ]
  },
  {
   "cell_type": "code",
   "execution_count": 8,
   "metadata": {},
   "outputs": [
    {
     "name": "stdout",
     "output_type": "stream",
     "text": [
      "2 + 2 equals 4.\n"
     ]
    }
   ],
   "source": [
    "# And now call it! Any problems, head to the troubleshooting guide\n",
    "# This uses GPT 4.1 nano, the incredibly cheap model\n",
    "\n",
    "response = openai.chat.completions.create(\n",
    "    model=\"gpt-4.1-nano\",\n",
    "    messages=messages\n",
    ")\n",
    "\n",
    "print(response.choices[0].message.content)\n"
   ]
  },
  {
   "cell_type": "code",
   "execution_count": 9,
   "metadata": {},
   "outputs": [],
   "source": [
    "# And now - let's ask for a question:\n",
    "\n",
    "question = \"Please propose a hard, challenging question to assess someone's IQ. Respond only with the question.\"\n",
    "messages = [{\"role\": \"user\", \"content\": question}]\n"
   ]
  },
  {
   "cell_type": "code",
   "execution_count": 10,
   "metadata": {},
   "outputs": [
    {
     "name": "stdout",
     "output_type": "stream",
     "text": [
      "If 7 people can complete a task in 9 hours working together, and 3 people can complete the same task in 21 hours working together, how many hours will it take for 5 people working together to complete the task? Assume all individuals work at a constant but potentially different rate.\n"
     ]
    }
   ],
   "source": [
    "# ask it - this uses GPT 4.1 mini, still cheap but more powerful than nano\n",
    "\n",
    "response = openai.chat.completions.create(\n",
    "    model=\"gpt-4.1-mini\",\n",
    "    messages=messages\n",
    ")\n",
    "\n",
    "question = response.choices[0].message.content\n",
    "\n",
    "print(question)\n"
   ]
  },
  {
   "cell_type": "code",
   "execution_count": 11,
   "metadata": {},
   "outputs": [],
   "source": [
    "# form a new messages list\n",
    "messages = [{\"role\": \"user\", \"content\": question}]\n"
   ]
  },
  {
   "cell_type": "code",
   "execution_count": 12,
   "metadata": {},
   "outputs": [
    {
     "name": "stdout",
     "output_type": "stream",
     "text": [
      "**Given:**\n",
      "\n",
      "- 7 people working together take 9 hours to complete the task.\n",
      "- 3 people working together take 21 hours to complete the same task.\n",
      "- We want to find how long 5 people working together will take.\n",
      "\n",
      "---\n",
      "\n",
      "### Step 1: Define variables for individual work rates\n",
      "\n",
      "Each person \\(i\\) has a constant work rate \\(r_i\\) (amount of task per hour).\n",
      "\n",
      "Let the 7 people be \\(P_1, P_2, \\ldots, P_7\\).\n",
      "\n",
      "- Total work = 1 task.\n",
      "- They complete 1 task in 9 hours working together.\n",
      "\n",
      "This means:\n",
      "\n",
      "\\[\n",
      "r_1 + r_2 + \\cdots + r_7 = \\frac{1}{9} \\quad \\text{(total rate of all 7 people)}\n",
      "\\]\n",
      "\n",
      "Similarly, the 3 people (say \\(P_a, P_b, P_c\\)) complete the task in 21 hours:\n",
      "\n",
      "\\[\n",
      "r_a + r_b + r_c = \\frac{1}{21}\n",
      "\\]\n",
      "\n",
      "---\n",
      "\n",
      "### Step 2: Problem with arbitrary rates\n",
      "\n",
      "Since rates may differ, we need information about which people are in the group of 3 and which in the group of 7.\n",
      "\n",
      "Possible situations:\n",
      "\n",
      "- The 3 people are among the 7 people.\n",
      "- Or the 3 people are a different set.\n",
      "\n",
      "The problem likely implies the 3 people are a subset of the 7 people (since the total group is 7, and a smaller group is 3 of those 7).\n",
      "\n",
      "---\n",
      "\n",
      "### Step 3: Let's say the 3 people are a subset of the 7 people.\n",
      "\n",
      "Let’s denote:\n",
      "\n",
      "- The 3 people: Their combined rate is \\(R_3 = \\frac{1}{21}\\).\n",
      "- The remaining 4 people’s combined rate is then:\n",
      "\n",
      "\\[\n",
      "R_4 = \\left(\\frac{1}{9}\\right) - \\frac{1}{21} = \\frac{1}{9} - \\frac{1}{21}\n",
      "= \\frac{7}{63} - \\frac{3}{63} = \\frac{4}{63}\n",
      "\\]\n",
      "\n",
      "So the other 4 people together contribute \\(\\frac{4}{63}\\) task/hr.\n",
      "\n",
      "---\n",
      "\n",
      "### Step 4: Find the rate of 5 people (3 people + 2 of the other 4 people).\n",
      "\n",
      "We want the combined rate of any 5 people, but since individuals may have different rates, we cannot be sure which 5 people to pick.\n",
      "\n",
      "Assuming the 5 people are the 3 people plus 2 of the other 4 people:\n",
      "\n",
      "- The combined rate of 3 people: \\(R_3 = \\frac{1}{21}\\).\n",
      "- The combined rate of all 4 others: \\(R_4 = \\frac{4}{63}\\).\n",
      "\n",
      "The average rate of each of the 4 people is \\(\\frac{4/63}{4} = \\frac{1}{63}\\).\n",
      "\n",
      "We can add the average rate of 2 of those 4 people:\n",
      "\n",
      "\\[\n",
      "R_5 = R_3 + 2 \\times \\frac{1}{63} = \\frac{1}{21} + \\frac{2}{63} = \\frac{3}{63} + \\frac{2}{63} = \\frac{5}{63}\n",
      "\\]\n",
      "\n",
      "---\n",
      "\n",
      "### Step 5: Calculate time for 5 people\n",
      "\n",
      "Time for 5 people is:\n",
      "\n",
      "\\[\n",
      "T_5 = \\frac{1}{R_5} = \\frac{1}{5/63} = \\frac{63}{5} = 12.6 \\text{ hours}\n",
      "\\]\n",
      "\n",
      "---\n",
      "\n",
      "### **Final answer:**\n",
      "\n",
      "\\[\n",
      "\\boxed{12.6 \\text{ hours}}\n",
      "\\]\n",
      "\n",
      "Five people working together will complete the task in **12.6 hours**, assuming the 3 people are a subset of the 7, and the other 4 people have equal rates among themselves.\n"
     ]
    }
   ],
   "source": [
    "# Ask it again\n",
    "\n",
    "response = openai.chat.completions.create(\n",
    "    model=\"gpt-4.1-mini\",\n",
    "    messages=messages\n",
    ")\n",
    "\n",
    "answer = response.choices[0].message.content\n",
    "print(answer)\n"
   ]
  },
  {
   "cell_type": "code",
   "execution_count": 13,
   "metadata": {},
   "outputs": [
    {
     "data": {
      "text/markdown": [
       "**Given:**\n",
       "\n",
       "- 7 people working together take 9 hours to complete the task.\n",
       "- 3 people working together take 21 hours to complete the same task.\n",
       "- We want to find how long 5 people working together will take.\n",
       "\n",
       "---\n",
       "\n",
       "### Step 1: Define variables for individual work rates\n",
       "\n",
       "Each person \\(i\\) has a constant work rate \\(r_i\\) (amount of task per hour).\n",
       "\n",
       "Let the 7 people be \\(P_1, P_2, \\ldots, P_7\\).\n",
       "\n",
       "- Total work = 1 task.\n",
       "- They complete 1 task in 9 hours working together.\n",
       "\n",
       "This means:\n",
       "\n",
       "\\[\n",
       "r_1 + r_2 + \\cdots + r_7 = \\frac{1}{9} \\quad \\text{(total rate of all 7 people)}\n",
       "\\]\n",
       "\n",
       "Similarly, the 3 people (say \\(P_a, P_b, P_c\\)) complete the task in 21 hours:\n",
       "\n",
       "\\[\n",
       "r_a + r_b + r_c = \\frac{1}{21}\n",
       "\\]\n",
       "\n",
       "---\n",
       "\n",
       "### Step 2: Problem with arbitrary rates\n",
       "\n",
       "Since rates may differ, we need information about which people are in the group of 3 and which in the group of 7.\n",
       "\n",
       "Possible situations:\n",
       "\n",
       "- The 3 people are among the 7 people.\n",
       "- Or the 3 people are a different set.\n",
       "\n",
       "The problem likely implies the 3 people are a subset of the 7 people (since the total group is 7, and a smaller group is 3 of those 7).\n",
       "\n",
       "---\n",
       "\n",
       "### Step 3: Let's say the 3 people are a subset of the 7 people.\n",
       "\n",
       "Let’s denote:\n",
       "\n",
       "- The 3 people: Their combined rate is \\(R_3 = \\frac{1}{21}\\).\n",
       "- The remaining 4 people’s combined rate is then:\n",
       "\n",
       "\\[\n",
       "R_4 = \\left(\\frac{1}{9}\\right) - \\frac{1}{21} = \\frac{1}{9} - \\frac{1}{21}\n",
       "= \\frac{7}{63} - \\frac{3}{63} = \\frac{4}{63}\n",
       "\\]\n",
       "\n",
       "So the other 4 people together contribute \\(\\frac{4}{63}\\) task/hr.\n",
       "\n",
       "---\n",
       "\n",
       "### Step 4: Find the rate of 5 people (3 people + 2 of the other 4 people).\n",
       "\n",
       "We want the combined rate of any 5 people, but since individuals may have different rates, we cannot be sure which 5 people to pick.\n",
       "\n",
       "Assuming the 5 people are the 3 people plus 2 of the other 4 people:\n",
       "\n",
       "- The combined rate of 3 people: \\(R_3 = \\frac{1}{21}\\).\n",
       "- The combined rate of all 4 others: \\(R_4 = \\frac{4}{63}\\).\n",
       "\n",
       "The average rate of each of the 4 people is \\(\\frac{4/63}{4} = \\frac{1}{63}\\).\n",
       "\n",
       "We can add the average rate of 2 of those 4 people:\n",
       "\n",
       "\\[\n",
       "R_5 = R_3 + 2 \\times \\frac{1}{63} = \\frac{1}{21} + \\frac{2}{63} = \\frac{3}{63} + \\frac{2}{63} = \\frac{5}{63}\n",
       "\\]\n",
       "\n",
       "---\n",
       "\n",
       "### Step 5: Calculate time for 5 people\n",
       "\n",
       "Time for 5 people is:\n",
       "\n",
       "\\[\n",
       "T_5 = \\frac{1}{R_5} = \\frac{1}{5/63} = \\frac{63}{5} = 12.6 \\text{ hours}\n",
       "\\]\n",
       "\n",
       "---\n",
       "\n",
       "### **Final answer:**\n",
       "\n",
       "\\[\n",
       "\\boxed{12.6 \\text{ hours}}\n",
       "\\]\n",
       "\n",
       "Five people working together will complete the task in **12.6 hours**, assuming the 3 people are a subset of the 7, and the other 4 people have equal rates among themselves."
      ],
      "text/plain": [
       "<IPython.core.display.Markdown object>"
      ]
     },
     "metadata": {},
     "output_type": "display_data"
    }
   ],
   "source": [
    "from IPython.display import Markdown, display\n",
    "\n",
    "display(Markdown(answer))\n",
    "\n"
   ]
  },
  {
   "cell_type": "markdown",
   "metadata": {},
   "source": [
    "# Congratulations!\n",
    "\n",
    "That was a small, simple step in the direction of Agentic AI, with your new environment!\n",
    "\n",
    "Next time things get more interesting..."
   ]
  },
  {
   "cell_type": "markdown",
   "metadata": {},
   "source": [
    "<table style=\"margin: 0; text-align: left; width:100%\">\n",
    "    <tr>\n",
    "        <td style=\"width: 150px; height: 150px; vertical-align: middle;\">\n",
    "            <img src=\"../assets/exercise.png\" width=\"150\" height=\"150\" style=\"display: block;\" />\n",
    "        </td>\n",
    "        <td>\n",
    "            <h2 style=\"color:#ff7800;\">Exercise</h2>\n",
    "            <span style=\"color:#ff7800;\">Now try this commercial application:<br/>\n",
    "            First ask the LLM to pick a business area that might be worth exploring for an Agentic AI opportunity.<br/>\n",
    "            Then ask the LLM to present a pain-point in that industry - something challenging that might be ripe for an Agentic solution.<br/>\n",
    "            Finally have 3 third LLM call propose the Agentic AI solution.\n",
    "            </span>\n",
    "        </td>\n",
    "    </tr>\n",
    "</table>"
   ]
  },
  {
   "cell_type": "code",
   "execution_count": 14,
   "metadata": {},
   "outputs": [
    {
     "name": "stdout",
     "output_type": "stream",
     "text": [
      "Business Idea: Astrology\n",
      "Pain Point: Clients often struggle to find credible astrologers and get personalized, timely guidance based on current celestial data.\n",
      "Agentic AI Solution: Build an Agentic AI that autonomously fetches updated celestial charts, matches users with vetted astrologers based on user personality profiles, and delivers tailored daily insights via preferred communication channels.\n"
     ]
    }
   ],
   "source": [
    "# First create the messages:\n",
    "\n",
    "messages = [{\"role\": \"user\", \"content\": \"Pick a business area worth exploring for an Agentic AI opportunity.\"}]\n",
    "\n",
    "# Then make the first call:\n",
    "\n",
    "response = \"Astrology\"\n",
    "\n",
    "# Then read the business idea:\n",
    "\n",
    "# Then read the business idea:\n",
    "business_idea = response\n",
    "\n",
    "# Step 2: Ask LLM for a pain-point in astrology\n",
    "pain_point_messages = [{\"role\": \"user\", \"content\": f\"What is a major pain point in the astrology industry that could benefit from Agentic AI?\"}]\n",
    "pain_point_response = \"Clients often struggle to find credible astrologers and get personalized, timely guidance based on current celestial data.\"\n",
    "\n",
    "# Step 3: Ask LLM to propose an Agentic AI solution\n",
    "solution_messages = [{\"role\": \"user\", \"content\": f\"Propose an Agentic AI solution for this pain point: {pain_point_response}\"}]\n",
    "solution_response = \"Build an Agentic AI that autonomously fetches updated celestial charts, matches users with vetted astrologers based on user personality profiles, and delivers tailored daily insights via preferred communication channels.\"\n",
    "\n",
    "# Final Output\n",
    "print(\"Business Idea:\", business_idea)\n",
    "print(\"Pain Point:\", pain_point_response)\n",
    "print(\"Agentic AI Solution:\", solution_response)\n",
    "\n",
    "# And repeat!"
   ]
  },
  {
   "cell_type": "markdown",
   "metadata": {},
   "source": []
  }
 ],
 "metadata": {
  "kernelspec": {
   "display_name": ".venv",
   "language": "python",
   "name": "python3"
  },
  "language_info": {
   "codemirror_mode": {
    "name": "ipython",
    "version": 3
   },
   "file_extension": ".py",
   "mimetype": "text/x-python",
   "name": "python",
   "nbconvert_exporter": "python",
   "pygments_lexer": "ipython3",
   "version": "3.12.7"
  }
 },
 "nbformat": 4,
 "nbformat_minor": 2
}
